{
 "cells": [
  {
   "cell_type": "code",
   "execution_count": 1,
   "id": "41b3621c-9485-47dc-a6c0-11fa8369b652",
   "metadata": {},
   "outputs": [],
   "source": [
    "import psycopg2 # PostgreSQL\n",
    "import pandas as pd\n",
    "import numpy as np\n",
    "import sqlalchemy"
   ]
  },
  {
   "cell_type": "code",
   "execution_count": 2,
   "id": "7af7b8f3-b7ed-4b9d-b3b4-e62c1d89577c",
   "metadata": {},
   "outputs": [],
   "source": [
    "from sqlalchemy import create_engine"
   ]
  },
  {
   "cell_type": "markdown",
   "id": "c3462bb6-f5c3-41cc-9564-dcf31071c2e4",
   "metadata": {},
   "source": [
    "### Connection to Postgres's DataBase : Sensors"
   ]
  },
  {
   "cell_type": "code",
   "execution_count": 3,
   "id": "2ef3240a-1296-41b5-98e7-25fa52ab1d4a",
   "metadata": {},
   "outputs": [
    {
     "name": "stdin",
     "output_type": "stream",
     "text": [
      "DATABASE NAME : Sensors\n",
      "USER NAME : postgres\n",
      "PASSWORD :  TEST\n",
      "IP ADDRESS :  localhost\n",
      "NUMBER OF PORT :  5432\n"
     ]
    }
   ],
   "source": [
    "DATABASE_NAME = str(input(\"DATABASE NAME :\"))   #\"Your database name\"\n",
    "USER_NAME     = str(input(\"USER NAME :\"))       #\"postgres\" by default\n",
    "PASSWORD      = str(input(\"PASSWORD : \"))       #\"PASSWORD\"\n",
    "IP_ADDRESS    = str(input(\"IP ADDRESS : \"))     #\"localhost\" on local ports\n",
    "HOST_PORT     = str(input(\"NUMBER OF PORT : \")) #\"5432\" is the default PG port number\n",
    "\n",
    "param_connexion = (DATABASE_NAME,USER_NAME, PASSWORD, IP_ADDRESS, HOST_PORT)"
   ]
  },
  {
   "cell_type": "code",
   "execution_count": 4,
   "id": "1ae41860-d2e1-49a9-971c-07857a4305b6",
   "metadata": {},
   "outputs": [],
   "source": [
    "engine = create_engine('postgresql://'+USER_NAME+':'+PASSWORD+'@'+IP_ADDRESS+':'+HOST_PORT+'/'+DATABASE_NAME)"
   ]
  },
  {
   "cell_type": "markdown",
   "id": "134244f0-2e27-4b5b-bd71-54f21b392bee",
   "metadata": {},
   "source": [
    "### Test of connection by query the Dataset"
   ]
  },
  {
   "cell_type": "code",
   "execution_count": 5,
   "id": "f33416ae-24a9-473f-8941-a47a211524f0",
   "metadata": {},
   "outputs": [],
   "source": [
    "connexion = psycopg2.connect(dbname=DATABASE_NAME, user=USER_NAME, password=PASSWORD)\n",
    "query =  \"SELECT * FROM dico_sensor;\""
   ]
  },
  {
   "cell_type": "code",
   "execution_count": 6,
   "id": "34573836-c649-4efb-b003-87854dd34d0b",
   "metadata": {},
   "outputs": [
    {
     "data": {
      "text/html": [
       "<div>\n",
       "<style scoped>\n",
       "    .dataframe tbody tr th:only-of-type {\n",
       "        vertical-align: middle;\n",
       "    }\n",
       "\n",
       "    .dataframe tbody tr th {\n",
       "        vertical-align: top;\n",
       "    }\n",
       "\n",
       "    .dataframe thead th {\n",
       "        text-align: right;\n",
       "    }\n",
       "</style>\n",
       "<table border=\"1\" class=\"dataframe\">\n",
       "  <thead>\n",
       "    <tr style=\"text-align: right;\">\n",
       "      <th></th>\n",
       "      <th>id</th>\n",
       "      <th>eui_id</th>\n",
       "      <th>tc_input</th>\n",
       "      <th>equipement_ouptut</th>\n",
       "    </tr>\n",
       "  </thead>\n",
       "  <tbody>\n",
       "    <tr>\n",
       "      <th>0</th>\n",
       "      <td>726</td>\n",
       "      <td>70b3d59ba0000465</td>\n",
       "      <td>1</td>\n",
       "      <td>Index</td>\n",
       "    </tr>\n",
       "    <tr>\n",
       "      <th>1</th>\n",
       "      <td>727</td>\n",
       "      <td>70b3d59ba0000465</td>\n",
       "      <td>3</td>\n",
       "      <td>Index</td>\n",
       "    </tr>\n",
       "    <tr>\n",
       "      <th>2</th>\n",
       "      <td>261</td>\n",
       "      <td>70b3d59ba0000605</td>\n",
       "      <td>0</td>\n",
       "      <td>Delta Pression</td>\n",
       "    </tr>\n",
       "    <tr>\n",
       "      <th>3</th>\n",
       "      <td>140</td>\n",
       "      <td>70b3d59ba00005c9</td>\n",
       "      <td>0</td>\n",
       "      <td>Delta Pression</td>\n",
       "    </tr>\n",
       "    <tr>\n",
       "      <th>4</th>\n",
       "      <td>262</td>\n",
       "      <td>70b3d59ba00005c3</td>\n",
       "      <td>0</td>\n",
       "      <td>Delta Pression</td>\n",
       "    </tr>\n",
       "  </tbody>\n",
       "</table>\n",
       "</div>"
      ],
      "text/plain": [
       "    id            eui_id  tc_input equipement_ouptut\n",
       "0  726  70b3d59ba0000465         1             Index\n",
       "1  727  70b3d59ba0000465         3             Index\n",
       "2  261  70b3d59ba0000605         0    Delta Pression\n",
       "3  140  70b3d59ba00005c9         0    Delta Pression\n",
       "4  262  70b3d59ba00005c3         0    Delta Pression"
      ]
     },
     "execution_count": 6,
     "metadata": {},
     "output_type": "execute_result"
    }
   ],
   "source": [
    "df = pd.read_sql_query(query, connexion)\n",
    "df.head()"
   ]
  },
  {
   "cell_type": "code",
   "execution_count": 7,
   "id": "4f1c44f5-309f-48b5-a98c-e6b8a6e86fc8",
   "metadata": {},
   "outputs": [],
   "source": [
    "connexion.close()"
   ]
  },
  {
   "cell_type": "markdown",
   "id": "95b96a67-302a-4edc-b294-14e361139948",
   "metadata": {},
   "source": [
    "### Export DataFrame to DataBase"
   ]
  },
  {
   "cell_type": "code",
   "execution_count": 8,
   "id": "3f4c65e3-34fb-4243-b6f8-24294bb0e1a7",
   "metadata": {},
   "outputs": [],
   "source": [
    "def DataFrameToDB(param_connexion,DataFrame, table_name):\n",
    "\n",
    "    engine = create_engine('postgresql://'+param_connexion[1]+':'+param_connexion[2]+'@'+param_connexion[3]+':'+param_connexion[4]+'/'+param_connexion[0])\n",
    "    DataFrame.to_sql(table_name, engine, if_exists='replace')    \n",
    "    \n",
    "    return \"The Dataframe \"+ str(table_name) +\" has correctly been exported to PostgresSQL\"       "
   ]
  },
  {
   "cell_type": "code",
   "execution_count": 9,
   "id": "ca1b3823-ee75-4ae0-893b-aea8afaf53e3",
   "metadata": {},
   "outputs": [
    {
     "data": {
      "text/plain": [
       "'The Dataframe dico has correctly been exported to PostgresSQL'"
      ]
     },
     "execution_count": 9,
     "metadata": {},
     "output_type": "execute_result"
    }
   ],
   "source": [
    "DataFrameToDB(param_connexion,pd.read_csv(\"./data/dico.csv\", delimiter=\";\"), \"dico\")"
   ]
  }
 ],
 "metadata": {
  "kernelspec": {
   "display_name": "Python 3",
   "language": "python",
   "name": "python3"
  },
  "language_info": {
   "codemirror_mode": {
    "name": "ipython",
    "version": 3
   },
   "file_extension": ".py",
   "mimetype": "text/x-python",
   "name": "python",
   "nbconvert_exporter": "python",
   "pygments_lexer": "ipython3",
   "version": "3.8.8"
  }
 },
 "nbformat": 4,
 "nbformat_minor": 5
}
