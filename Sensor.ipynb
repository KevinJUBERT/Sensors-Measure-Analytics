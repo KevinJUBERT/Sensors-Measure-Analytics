{
 "cells": [
  {
   "cell_type": "code",
   "execution_count": 1,
   "id": "47e10ba9-b3cd-45d8-aad3-a61219ae52b4",
   "metadata": {},
   "outputs": [],
   "source": [
    "import pandas as pd"
   ]
  },
  {
   "cell_type": "code",
   "execution_count": 2,
   "id": "a9ff1a0b-d271-441f-a8bc-d551e209c219",
   "metadata": {},
   "outputs": [],
   "source": [
    "df_sensor = pd.read_csv(\"./data/dico.csv\", delimiter =\";\")\n",
    "df_sensor_raw = df_sensor.copy()"
   ]
  },
  {
   "cell_type": "code",
   "execution_count": 3,
   "id": "218c3bc6-e85c-4a7d-98fc-ad58c3cec737",
   "metadata": {},
   "outputs": [
    {
     "data": {
      "text/html": [
       "<div>\n",
       "<style scoped>\n",
       "    .dataframe tbody tr th:only-of-type {\n",
       "        vertical-align: middle;\n",
       "    }\n",
       "\n",
       "    .dataframe tbody tr th {\n",
       "        vertical-align: top;\n",
       "    }\n",
       "\n",
       "    .dataframe thead th {\n",
       "        text-align: right;\n",
       "    }\n",
       "</style>\n",
       "<table border=\"1\" class=\"dataframe\">\n",
       "  <thead>\n",
       "    <tr style=\"text-align: right;\">\n",
       "      <th></th>\n",
       "      <th>Id</th>\n",
       "      <th>equipement_ouptut</th>\n",
       "    </tr>\n",
       "  </thead>\n",
       "  <tbody>\n",
       "    <tr>\n",
       "      <th>0</th>\n",
       "      <td>726</td>\n",
       "      <td>Index</td>\n",
       "    </tr>\n",
       "    <tr>\n",
       "      <th>1</th>\n",
       "      <td>727</td>\n",
       "      <td>Index</td>\n",
       "    </tr>\n",
       "    <tr>\n",
       "      <th>2</th>\n",
       "      <td>261</td>\n",
       "      <td>Delta Pression</td>\n",
       "    </tr>\n",
       "    <tr>\n",
       "      <th>3</th>\n",
       "      <td>140</td>\n",
       "      <td>Delta Pression</td>\n",
       "    </tr>\n",
       "    <tr>\n",
       "      <th>4</th>\n",
       "      <td>262</td>\n",
       "      <td>Delta Pression</td>\n",
       "    </tr>\n",
       "  </tbody>\n",
       "</table>\n",
       "</div>"
      ],
      "text/plain": [
       "    Id equipement_ouptut\n",
       "0  726             Index\n",
       "1  727             Index\n",
       "2  261    Delta Pression\n",
       "3  140    Delta Pression\n",
       "4  262    Delta Pression"
      ]
     },
     "execution_count": 3,
     "metadata": {},
     "output_type": "execute_result"
    }
   ],
   "source": [
    "df_sensor = df_sensor[['Id','equipement_ouptut']]\n",
    "df_sensor.head()"
   ]
  },
  {
   "cell_type": "markdown",
   "id": "8b25040f-f9c7-40c4-ba0e-e6efaaf14116",
   "metadata": {},
   "source": [
    "<p><span style='font-size: 30px; font-family: \"Trebuchet MS\", Helvetica, sans-serif;'>Here I&apos;ve created two dictionnaries :</span><span style=\"font-size: 22px; font-family: Tahoma, Geneva, sans-serif;\">&nbsp;</span></p>\n",
    "<ol>\n",
    "    <li><span style=\"font-family: 'Trebuchet MS', Helvetica, sans-serif;\">The first one is called &apos;sensor_type_measure&apos; takes for key a type of measures ( for example &nbsp;&apos;Index&apos;, &apos;Humidit&eacute;&apos;, &apos;Temp&eacute;rature&apos;, etc and return for value the list of all sensors of the entered key.</span></li>\n",
    "    <li><span style=\"font-family: 'Trebuchet MS', Helvetica, sans-serif;\">The second one called &apos;<span style='color: rgb(0, 0, 0); font-family: \"Trebuchet MS\", Helvetica, sans-serif; font-size: medium; font-style: normal; font-variant-ligatures: normal; font-variant-caps: normal; font-weight: 400; letter-spacing: normal; orphans: 2; text-align: left; text-indent: 0px; text-transform: none; white-space: normal; widows: 2; word-spacing: 0px; -webkit-text-stroke-width: 0px; text-decoration-thickness: initial; text-decoration-style: initial; text-decoration-color: initial; display: inline !important; float: none;'>&nbsp;&apos;sensor_id_measure</span> &apos; takes for key an Id and return for value the type of measure of the entered sensor</span></li>\n",
    "</ol>"
   ]
  },
  {
   "cell_type": "code",
   "execution_count": null,
   "id": "d48e4b30-ccd3-44de-b87d-cb536d06f945",
   "metadata": {},
   "outputs": [],
   "source": [
    "First dictionnary : 'sensor_type_measure'"
   ]
  },
  {
   "cell_type": "code",
   "execution_count": 4,
   "id": "c84fcc55-31b8-45f6-9dc8-9172ea32f430",
   "metadata": {},
   "outputs": [],
   "source": [
    "type_measure = list(set(df_sensor['equipement_ouptut']))"
   ]
  },
  {
   "cell_type": "code",
   "execution_count": 5,
   "id": "c6eecb84-5403-4db6-8a85-451a3cf18d1a",
   "metadata": {},
   "outputs": [],
   "source": [
    "sensor_type_measure = {}\n",
    "\n",
    "for i in type_measure:\n",
    "    df = df_sensor[df_sensor['equipement_ouptut'] == i]['Id']\n",
    "    sensor_type_measure[i] = list(set(df))"
   ]
  },
  {
   "cell_type": "code",
   "execution_count": 6,
   "id": "c602f31e-56e9-4da0-b287-273fa3423b07",
   "metadata": {},
   "outputs": [
    {
     "data": {
      "text/plain": [
       "[129, 720, 721, 723, 119, 629, 726, 727, 724, 121, 123, 125, 126, 127]"
      ]
     },
     "execution_count": 6,
     "metadata": {},
     "output_type": "execute_result"
    }
   ],
   "source": [
    "sensor_type_measure['Index']"
   ]
  },
  {
   "cell_type": "code",
   "execution_count": 7,
   "id": "5efd4118-85a1-4843-a725-9e31c80a28da",
   "metadata": {},
   "outputs": [],
   "source": [
    "sensor_id_measure = {}\n",
    "df_temp = df_sensor.set_index('Id')\n",
    "\n",
    "for i in list(set(df_sensor['Id'])):\n",
    "    sensor_id_measure[i] = df_temp.loc[i]['equipement_ouptut']"
   ]
  },
  {
   "cell_type": "code",
   "execution_count": 8,
   "id": "d6e3dda1-199b-4422-b2f2-d83e9ad96275",
   "metadata": {},
   "outputs": [
    {
     "data": {
      "text/plain": [
       "'Humidité'"
      ]
     },
     "execution_count": 8,
     "metadata": {},
     "output_type": "execute_result"
    }
   ],
   "source": [
    "sensor_id_measure[135]"
   ]
  },
  {
   "cell_type": "code",
   "execution_count": null,
   "id": "d43569c3-54f5-471d-8b30-dbc9ac594219",
   "metadata": {},
   "outputs": [],
   "source": []
  }
 ],
 "metadata": {
  "kernelspec": {
   "display_name": "Python 3",
   "language": "python",
   "name": "python3"
  },
  "language_info": {
   "codemirror_mode": {
    "name": "ipython",
    "version": 3
   },
   "file_extension": ".py",
   "mimetype": "text/x-python",
   "name": "python",
   "nbconvert_exporter": "python",
   "pygments_lexer": "ipython3",
   "version": "3.8.8"
  }
 },
 "nbformat": 4,
 "nbformat_minor": 5
}
